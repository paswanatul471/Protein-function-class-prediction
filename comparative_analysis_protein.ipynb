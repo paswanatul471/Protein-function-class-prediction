{
 "cells": [
  {
   "cell_type": "code",
   "execution_count": 1,
   "id": "69847be7",
   "metadata": {},
   "outputs": [
    {
     "name": "stdout",
     "output_type": "stream",
     "text": [
      "Datasets have been loaded...\n"
     ]
    },
    {
     "name": "stderr",
     "output_type": "stream",
     "text": [
      "C:\\Users\\asus\\AppData\\Local\\Temp\\ipykernel_1664\\3584225734.py:11: DtypeWarning: Columns (0,1,2,4) have mixed types. Specify dtype option on import or set low_memory=False.\n",
      "  df_seq = pd.read_csv('pdb_data_seq_20.csv')\n",
      "C:\\Users\\asus\\AppData\\Local\\Temp\\ipykernel_1664\\3584225734.py:12: DtypeWarning: Columns (0,1,2,3,7,11) have mixed types. Specify dtype option on import or set low_memory=False.\n",
      "  df_char = pd.read_csv('pdb_data_no_dups_20.csv')\n"
     ]
    }
   ],
   "source": [
    "import pandas as pd\n",
    "import numpy as np\n",
    "from matplotlib import pyplot as plt\n",
    "import seaborn as sns\n",
    "from sklearn.feature_extraction.text import CountVectorizer\n",
    "from sklearn.model_selection import train_test_split\n",
    "from sklearn.metrics import accuracy_score, confusion_matrix, classification_report\n",
    "\n",
    "\n",
    "# Import Datasets\n",
    "df_seq = pd.read_csv('pdb_data_seq_20.csv')\n",
    "df_char = pd.read_csv('pdb_data_no_dups_20.csv')\n",
    "print('Datasets have been loaded...')"
   ]
  },
  {
   "cell_type": "code",
   "execution_count": 2,
   "id": "32d612a5",
   "metadata": {},
   "outputs": [
    {
     "data": {
      "text/html": [
       "<div>\n",
       "<style scoped>\n",
       "    .dataframe tbody tr th:only-of-type {\n",
       "        vertical-align: middle;\n",
       "    }\n",
       "\n",
       "    .dataframe tbody tr th {\n",
       "        vertical-align: top;\n",
       "    }\n",
       "\n",
       "    .dataframe thead th {\n",
       "        text-align: right;\n",
       "    }\n",
       "</style>\n",
       "<table border=\"1\" class=\"dataframe\">\n",
       "  <thead>\n",
       "    <tr style=\"text-align: right;\">\n",
       "      <th></th>\n",
       "      <th>structureId</th>\n",
       "      <th>sequence</th>\n",
       "    </tr>\n",
       "  </thead>\n",
       "  <tbody>\n",
       "    <tr>\n",
       "      <th>4</th>\n",
       "      <td>101M</td>\n",
       "      <td>MVLSEGEWQLVLHVWAKVEADVAGHGQDILIRLFKSHPETLEKFDR...</td>\n",
       "    </tr>\n",
       "    <tr>\n",
       "      <th>7</th>\n",
       "      <td>102L</td>\n",
       "      <td>MNIFEMLRIDEGLRLKIYKDTEGYYTIGIGHLLTKSPSLNAAAKSE...</td>\n",
       "    </tr>\n",
       "    <tr>\n",
       "      <th>8</th>\n",
       "      <td>102M</td>\n",
       "      <td>MVLSEGEWQLVLHVWAKVEADVAGHGQDILIRLFKSHPETLEKFDR...</td>\n",
       "    </tr>\n",
       "    <tr>\n",
       "      <th>11</th>\n",
       "      <td>103L</td>\n",
       "      <td>MNIFEMLRIDEGLRLKIYKDTEGYYTIGIGHLLTKSPSLNSLDAAK...</td>\n",
       "    </tr>\n",
       "    <tr>\n",
       "      <th>12</th>\n",
       "      <td>103M</td>\n",
       "      <td>MVLSEGEWQLVLHVWAKVEADVAGHGQDILIRLFKSHPETLEKFDR...</td>\n",
       "    </tr>\n",
       "  </tbody>\n",
       "</table>\n",
       "</div>"
      ],
      "text/plain": [
       "   structureId                                           sequence\n",
       "4         101M  MVLSEGEWQLVLHVWAKVEADVAGHGQDILIRLFKSHPETLEKFDR...\n",
       "7         102L  MNIFEMLRIDEGLRLKIYKDTEGYYTIGIGHLLTKSPSLNAAAKSE...\n",
       "8         102M  MVLSEGEWQLVLHVWAKVEADVAGHGQDILIRLFKSHPETLEKFDR...\n",
       "11        103L  MNIFEMLRIDEGLRLKIYKDTEGYYTIGIGHLLTKSPSLNSLDAAK...\n",
       "12        103M  MVLSEGEWQLVLHVWAKVEADVAGHGQDILIRLFKSHPETLEKFDR..."
      ]
     },
     "execution_count": 2,
     "metadata": {},
     "output_type": "execute_result"
    }
   ],
   "source": [
    "# Filter for only proteins\n",
    "protein_char = df_char[df_char.macromoleculeType == 'Protein']\n",
    "protein_seq = df_seq[df_seq.macromoleculeType == 'Protein']\n",
    "\n",
    "# Select only necessary variables to join\n",
    "protein_char = protein_char[['structureId','classification']]\n",
    "protein_seq = protein_seq[['structureId','sequence']]\n",
    "protein_seq.head()"
   ]
  },
  {
   "cell_type": "code",
   "execution_count": 3,
   "id": "c6f289a4",
   "metadata": {},
   "outputs": [
    {
     "data": {
      "text/html": [
       "<div>\n",
       "<style scoped>\n",
       "    .dataframe tbody tr th:only-of-type {\n",
       "        vertical-align: middle;\n",
       "    }\n",
       "\n",
       "    .dataframe tbody tr th {\n",
       "        vertical-align: top;\n",
       "    }\n",
       "\n",
       "    .dataframe thead th {\n",
       "        text-align: right;\n",
       "    }\n",
       "</style>\n",
       "<table border=\"1\" class=\"dataframe\">\n",
       "  <thead>\n",
       "    <tr style=\"text-align: right;\">\n",
       "      <th></th>\n",
       "      <th>structureId</th>\n",
       "      <th>classification</th>\n",
       "    </tr>\n",
       "  </thead>\n",
       "  <tbody>\n",
       "    <tr>\n",
       "      <th>2</th>\n",
       "      <td>101M</td>\n",
       "      <td>OXYGEN TRANSPORT</td>\n",
       "    </tr>\n",
       "    <tr>\n",
       "      <th>4</th>\n",
       "      <td>102L</td>\n",
       "      <td>HYDROLASE(O-GLYCOSYL)</td>\n",
       "    </tr>\n",
       "    <tr>\n",
       "      <th>5</th>\n",
       "      <td>102M</td>\n",
       "      <td>OXYGEN TRANSPORT</td>\n",
       "    </tr>\n",
       "    <tr>\n",
       "      <th>7</th>\n",
       "      <td>103L</td>\n",
       "      <td>HYDROLASE(O-GLYCOSYL)</td>\n",
       "    </tr>\n",
       "    <tr>\n",
       "      <th>8</th>\n",
       "      <td>103M</td>\n",
       "      <td>OXYGEN TRANSPORT</td>\n",
       "    </tr>\n",
       "  </tbody>\n",
       "</table>\n",
       "</div>"
      ],
      "text/plain": [
       "  structureId         classification\n",
       "2        101M       OXYGEN TRANSPORT\n",
       "4        102L  HYDROLASE(O-GLYCOSYL)\n",
       "5        102M       OXYGEN TRANSPORT\n",
       "7        103L  HYDROLASE(O-GLYCOSYL)\n",
       "8        103M       OXYGEN TRANSPORT"
      ]
     },
     "execution_count": 3,
     "metadata": {},
     "output_type": "execute_result"
    }
   ],
   "source": [
    "protein_char.head()"
   ]
  },
  {
   "cell_type": "code",
   "execution_count": 4,
   "id": "a3b3e172",
   "metadata": {},
   "outputs": [
    {
     "data": {
      "text/html": [
       "<div>\n",
       "<style scoped>\n",
       "    .dataframe tbody tr th:only-of-type {\n",
       "        vertical-align: middle;\n",
       "    }\n",
       "\n",
       "    .dataframe tbody tr th {\n",
       "        vertical-align: top;\n",
       "    }\n",
       "\n",
       "    .dataframe thead th {\n",
       "        text-align: right;\n",
       "    }\n",
       "</style>\n",
       "<table border=\"1\" class=\"dataframe\">\n",
       "  <thead>\n",
       "    <tr style=\"text-align: right;\">\n",
       "      <th></th>\n",
       "      <th>classification</th>\n",
       "      <th>sequence</th>\n",
       "    </tr>\n",
       "    <tr>\n",
       "      <th>structureId</th>\n",
       "      <th></th>\n",
       "      <th></th>\n",
       "    </tr>\n",
       "  </thead>\n",
       "  <tbody>\n",
       "    <tr>\n",
       "      <th>01-Aug</th>\n",
       "      <td>THIOL PROTEASE</td>\n",
       "      <td>MEKKVLLTGFDPFGGETVNPSWEAVKRLNGAAEGPASIVSEQVPTV...</td>\n",
       "    </tr>\n",
       "    <tr>\n",
       "      <th>01-Aug</th>\n",
       "      <td>THIOL PROTEASE</td>\n",
       "      <td>MEKKVLLTGFDPFGGETVNPSWEAVKRLNGAAEGPASIVSEQVPTV...</td>\n",
       "    </tr>\n",
       "    <tr>\n",
       "      <th>01-Aug</th>\n",
       "      <td>THIOL PROTEASE</td>\n",
       "      <td>MEKKVLLTGFDPFGGETVNPSWEAVKRLNGAAEGPASIVSEQVPTV...</td>\n",
       "    </tr>\n",
       "    <tr>\n",
       "      <th>01-Aug</th>\n",
       "      <td>THIOL PROTEASE</td>\n",
       "      <td>MEKKVLLTGFDPFGGETVNPSWEAVKRLNGAAEGPASIVSEQVPTV...</td>\n",
       "    </tr>\n",
       "    <tr>\n",
       "      <th>01-Dec</th>\n",
       "      <td>BLOOD COAGULATION</td>\n",
       "      <td>APRLPQCQGDDQEKCLCNKDECPPGQCRFPRGDADPYCE</td>\n",
       "    </tr>\n",
       "  </tbody>\n",
       "</table>\n",
       "</div>"
      ],
      "text/plain": [
       "                classification  \\\n",
       "structureId                      \n",
       "01-Aug          THIOL PROTEASE   \n",
       "01-Aug          THIOL PROTEASE   \n",
       "01-Aug          THIOL PROTEASE   \n",
       "01-Aug          THIOL PROTEASE   \n",
       "01-Dec       BLOOD COAGULATION   \n",
       "\n",
       "                                                      sequence  \n",
       "structureId                                                     \n",
       "01-Aug       MEKKVLLTGFDPFGGETVNPSWEAVKRLNGAAEGPASIVSEQVPTV...  \n",
       "01-Aug       MEKKVLLTGFDPFGGETVNPSWEAVKRLNGAAEGPASIVSEQVPTV...  \n",
       "01-Aug       MEKKVLLTGFDPFGGETVNPSWEAVKRLNGAAEGPASIVSEQVPTV...  \n",
       "01-Aug       MEKKVLLTGFDPFGGETVNPSWEAVKRLNGAAEGPASIVSEQVPTV...  \n",
       "01-Dec                 APRLPQCQGDDQEKCLCNKDECPPGQCRFPRGDADPYCE  "
      ]
     },
     "execution_count": 4,
     "metadata": {},
     "output_type": "execute_result"
    }
   ],
   "source": [
    "# Join two datasets on structureId\n",
    "model_f = protein_char.set_index('structureId').join(protein_seq.set_index('structureId'))\n",
    "model_f.head()"
   ]
  },
  {
   "cell_type": "code",
   "execution_count": 5,
   "id": "d0065cf2",
   "metadata": {},
   "outputs": [
    {
     "name": "stdout",
     "output_type": "stream",
     "text": [
      "38926 is the number of rows in the joined dataset\n"
     ]
    }
   ],
   "source": [
    "print('%d is the number of rows in the joined dataset' %model_f.shape[0])"
   ]
  },
  {
   "cell_type": "code",
   "execution_count": 6,
   "id": "d2ef1f39",
   "metadata": {},
   "outputs": [
    {
     "data": {
      "text/plain": [
       "classification    0\n",
       "sequence          1\n",
       "dtype: int64"
      ]
     },
     "execution_count": 6,
     "metadata": {},
     "output_type": "execute_result"
    }
   ],
   "source": [
    "# Check NA counts\n",
    "model_f.isnull().sum()"
   ]
  },
  {
   "cell_type": "code",
   "execution_count": 7,
   "id": "69f41338",
   "metadata": {},
   "outputs": [
    {
     "name": "stdout",
     "output_type": "stream",
     "text": [
      "38925 is the number of proteins that have a classification and sequence\n"
     ]
    }
   ],
   "source": [
    "# Drop rows with missing values\n",
    "model_f = model_f.dropna()\n",
    "print('%d is the number of proteins that have a classification and sequence' %model_f.shape[0])"
   ]
  },
  {
   "cell_type": "code",
   "execution_count": 8,
   "id": "d52de3f9",
   "metadata": {},
   "outputs": [
    {
     "name": "stdout",
     "output_type": "stream",
     "text": [
      "HYDROLASE                         4657\n",
      "OXIDOREDUCTASE                    4015\n",
      "TRANSFERASE                       3587\n",
      "LYASE                             1634\n",
      "IMMUNE SYSTEM                     1348\n",
      "                                  ... \n",
      "REVERSE TRANSCRIPTASE                1\n",
      "CHITIN-BINDING                       1\n",
      "ISOMERASE/TRANSFERASE                1\n",
      "ACETYLTRANSFERASE                    1\n",
      "OXIDOREDUCTASE (H2O2 ACCEPTOR)       1\n",
      "Name: classification, Length: 1533, dtype: int64\n"
     ]
    },
    {
     "name": "stderr",
     "output_type": "stream",
     "text": [
      "C:\\Users\\asus\\anaconda3\\lib\\site-packages\\seaborn\\distributions.py:2619: FutureWarning: `distplot` is a deprecated function and will be removed in a future version. Please adapt your code to use either `displot` (a figure-level function with similar flexibility) or `kdeplot` (an axes-level function for kernel density plots).\n",
      "  warnings.warn(msg, FutureWarning)\n"
     ]
    },
    {
     "data": {
      "image/png": "[encoded data removed]",
      "text/plain": [
       "<Figure size 640x480 with 1 Axes>"
      ]
     },
     "metadata": {},
     "output_type": "display_data"
    }
   ],
   "source": [
    "# Look at classification type counts\n",
    "counts = model_f.classification.value_counts()\n",
    "print(counts)\n",
    "\n",
    "#plot counts\n",
    "plt.figure()\n",
    "sns.distplot(counts, hist = False, color = 'purple')\n",
    "plt.title('Count Distribution for Family Types')\n",
    "plt.ylabel('% of records')\n",
    "plt.show()"
   ]
  },
  {
   "cell_type": "code",
   "execution_count": 9,
   "id": "fd34c955",
   "metadata": {},
   "outputs": [
    {
     "name": "stdout",
     "output_type": "stream",
     "text": [
      "['HYDROLASE' 'OXIDOREDUCTASE' 'TRANSFERASE' 'LYASE' 'IMMUNE SYSTEM'\n",
      " 'HYDROLASE/HYDROLASE INHIBITOR']\n",
      "16326 is the number of records in the final filtered dataset\n"
     ]
    }
   ],
   "source": [
    "# Get classification types where counts are over 1000\n",
    "types = np.asarray(counts[(counts > 1000)].index)\n",
    "\n",
    "# Filter dataset's records for classification types > 1000\n",
    "data = model_f[model_f.classification.isin(types)]\n",
    "\n",
    "print(types)\n",
    "print('%d is the number of records in the final filtered dataset' %data.shape[0])"
   ]
  },
  {
   "cell_type": "code",
   "execution_count": 10,
   "id": "7c0be916",
   "metadata": {},
   "outputs": [
    {
     "name": "stdout",
     "output_type": "stream",
     "text": [
      "['zgar', 'ziar', 'zigi', 'ziwz', 'zkal', 'zkky', 'zknt', 'zkyh', 'zlik', 'zlzk', 'zpvm', 'zrgd', 'zrvi', 'ztvl', 'ztzk', 'zvbd', 'zvib', 'zvka', 'zwdl', 'zzvb']\n"
     ]
    },
    {
     "name": "stderr",
     "output_type": "stream",
     "text": [
      "C:\\Users\\asus\\anaconda3\\lib\\site-packages\\sklearn\\utils\\deprecation.py:87: FutureWarning: Function get_feature_names is deprecated; get_feature_names is deprecated in 1.0 and will be removed in 1.2. Please use get_feature_names_out instead.\n",
      "  warnings.warn(msg, category=FutureWarning)\n"
     ]
    }
   ],
   "source": [
    "# 3). ----- Train Test Split -----\n",
    "\n",
    "# Split Data\n",
    "X_train, X_test,y_train,y_test = train_test_split(data['sequence'], data['classification'], test_size = 0.2, random_state = 1)\n",
    "\n",
    "# Create a Count Vectorizer to gather the unique elements in sequence\n",
    "vect = CountVectorizer(analyzer = 'char_wb', ngram_range = (4,4))\n",
    "\n",
    "# Fit and Transform CountVectorizer\n",
    "vect.fit(X_train)\n",
    "X_train_df = vect.transform(X_train)\n",
    "X_test_df = vect.transform(X_test)\n",
    "\n",
    "#Print a few of the features\n",
    "print(vect.get_feature_names()[-20:])"
   ]
  },
  {
   "cell_type": "code",
   "execution_count": 11,
   "id": "5a298e8f",
   "metadata": {},
   "outputs": [],
   "source": [
    "from sklearn.metrics import r2_score,mean_squared_error,accuracy_score,recall_score,precision_score,confusion_matrix\n"
   ]
  },
  {
   "cell_type": "code",
   "execution_count": 12,
   "id": "be69dea4",
   "metadata": {},
   "outputs": [],
   "source": [
    "# will store result of each model.\n",
    "\n",
    "result = pd.DataFrame(columns=['Model','Accuracy',  'Precision', 'Recall Score', 'F-1 Score'])\n"
   ]
  },
  {
   "cell_type": "code",
   "execution_count": 13,
   "id": "a1216088",
   "metadata": {},
   "outputs": [],
   "source": [
    "# 4). ------ Machine Learning Models ------\n",
    "# SVM\n",
    "prediction = dict()\n",
    "\n",
    "from sklearn import svm\n",
    "model = svm.SVC()\n",
    "model.fit(X_train_df, y_train)\n",
    "SVM_pred = model.predict(X_test_df)"
   ]
  },
  {
   "cell_type": "code",
   "execution_count": 14,
   "id": "341fe636",
   "metadata": {},
   "outputs": [
    {
     "name": "stdout",
     "output_type": "stream",
     "text": [
      "Precision is 0.9206071710152197\n",
      "Recall is 0.9066135946111451\n",
      "F1 score is 0.9107591437442439\n"
     ]
    }
   ],
   "source": [
    "# Compute precision, recall and f1 score\n",
    "from sklearn.metrics import recall_score, precision_score, f1_score, classification_report\n",
    "\n",
    "precision = precision_score(y_test, SVM_pred, average='weighted')\n",
    "recall = recall_score(y_test, SVM_pred, average='weighted')\n",
    "f1 = f1_score(y_test, SVM_pred, average='weighted')\n",
    "\n",
    "print(\"Precision is\", precision)\n",
    "print(\"Recall is\", recall)\n",
    "print(\"F1 score is\", f1)"
   ]
  },
  {
   "cell_type": "code",
   "execution_count": 15,
   "id": "2d9ffc15",
   "metadata": {},
   "outputs": [
    {
     "name": "stdout",
     "output_type": "stream",
     "text": [
      "0.9066135946111451\n"
     ]
    }
   ],
   "source": [
    "prediction[\"Support\"] = accuracy_score(SVM_pred, y_test)\n",
    "print( prediction['Support'])"
   ]
  },
  {
   "cell_type": "code",
   "execution_count": 16,
   "id": "50904358",
   "metadata": {},
   "outputs": [
    {
     "name": "stderr",
     "output_type": "stream",
     "text": [
      "C:\\Users\\asus\\AppData\\Local\\Temp\\ipykernel_1664\\2948008605.py:1: FutureWarning: The frame.append method is deprecated and will be removed from pandas in a future version. Use pandas.concat instead.\n",
      "  result = result.append(pd.Series({'Model':'SVM Classifier','Accuracy':prediction['Support'], 'Precision':precision, 'Recall Score':recall, 'F-1 Score':f1}),ignore_index=True)\n"
     ]
    },
    {
     "data": {
      "text/html": [
       "<div>\n",
       "<style scoped>\n",
       "    .dataframe tbody tr th:only-of-type {\n",
       "        vertical-align: middle;\n",
       "    }\n",
       "\n",
       "    .dataframe tbody tr th {\n",
       "        vertical-align: top;\n",
       "    }\n",
       "\n",
       "    .dataframe thead th {\n",
       "        text-align: right;\n",
       "    }\n",
       "</style>\n",
       "<table border=\"1\" class=\"dataframe\">\n",
       "  <thead>\n",
       "    <tr style=\"text-align: right;\">\n",
       "      <th></th>\n",
       "      <th>Model</th>\n",
       "      <th>Accuracy</th>\n",
       "      <th>Precision</th>\n",
       "      <th>Recall Score</th>\n",
       "      <th>F-1 Score</th>\n",
       "    </tr>\n",
       "  </thead>\n",
       "  <tbody>\n",
       "    <tr>\n",
       "      <th>0</th>\n",
       "      <td>SVM Classifier</td>\n",
       "      <td>0.906614</td>\n",
       "      <td>0.920607</td>\n",
       "      <td>0.906614</td>\n",
       "      <td>0.910759</td>\n",
       "    </tr>\n",
       "  </tbody>\n",
       "</table>\n",
       "</div>"
      ],
      "text/plain": [
       "            Model  Accuracy  Precision  Recall Score  F-1 Score\n",
       "0  SVM Classifier  0.906614   0.920607      0.906614   0.910759"
      ]
     },
     "execution_count": 16,
     "metadata": {},
     "output_type": "execute_result"
    }
   ],
   "source": [
    "result = result.append(pd.Series({'Model':'SVM Classifier','Accuracy':prediction['Support'], 'Precision':precision, 'Recall Score':recall, 'F-1 Score':f1}),ignore_index=True)\n",
    "result"
   ]
  },
  {
   "cell_type": "code",
   "execution_count": 17,
   "id": "03cd4949",
   "metadata": {},
   "outputs": [
    {
     "name": "stdout",
     "output_type": "stream",
     "text": [
      "Precision is 0.9345117990103983\n",
      "Recall is 0.9246785058175138\n",
      "F1 score is 0.9270497570395797\n"
     ]
    }
   ],
   "source": [
    "# Naive bayes\n",
    "prediction = dict()\n",
    "\n",
    "# Naive Bayes Model\n",
    "from sklearn.naive_bayes import MultinomialNB\n",
    "model = MultinomialNB()\n",
    "model.fit(X_train_df, y_train)\n",
    "NB_pred = model.predict(X_test_df)\n",
    "\n",
    "precision = precision_score(y_test, NB_pred, average='weighted')\n",
    "recall = recall_score(y_test, NB_pred, average='weighted')\n",
    "f1 = f1_score(y_test, NB_pred, average='weighted')\n",
    "\n",
    "print(\"Precision is\", precision)\n",
    "print(\"Recall is\", recall)\n",
    "print(\"F1 score is\", f1)"
   ]
  },
  {
   "cell_type": "code",
   "execution_count": 18,
   "id": "74079376",
   "metadata": {},
   "outputs": [
    {
     "name": "stderr",
     "output_type": "stream",
     "text": [
      "C:\\Users\\asus\\AppData\\Local\\Temp\\ipykernel_1664\\1967050744.py:3: FutureWarning: The frame.append method is deprecated and will be removed from pandas in a future version. Use pandas.concat instead.\n",
      "  result = result.append(pd.Series({'Model':'Naive bayes','Accuracy':dt_test_accuracy, 'Precision':precision, 'Recall Score':recall, 'F-1 Score':f1}),ignore_index=True)\n"
     ]
    },
    {
     "data": {
      "text/html": [
       "<div>\n",
       "<style scoped>\n",
       "    .dataframe tbody tr th:only-of-type {\n",
       "        vertical-align: middle;\n",
       "    }\n",
       "\n",
       "    .dataframe tbody tr th {\n",
       "        vertical-align: top;\n",
       "    }\n",
       "\n",
       "    .dataframe thead th {\n",
       "        text-align: right;\n",
       "    }\n",
       "</style>\n",
       "<table border=\"1\" class=\"dataframe\">\n",
       "  <thead>\n",
       "    <tr style=\"text-align: right;\">\n",
       "      <th></th>\n",
       "      <th>Model</th>\n",
       "      <th>Accuracy</th>\n",
       "      <th>Precision</th>\n",
       "      <th>Recall Score</th>\n",
       "      <th>F-1 Score</th>\n",
       "    </tr>\n",
       "  </thead>\n",
       "  <tbody>\n",
       "    <tr>\n",
       "      <th>0</th>\n",
       "      <td>SVM Classifier</td>\n",
       "      <td>0.906614</td>\n",
       "      <td>0.920607</td>\n",
       "      <td>0.906614</td>\n",
       "      <td>0.910759</td>\n",
       "    </tr>\n",
       "    <tr>\n",
       "      <th>1</th>\n",
       "      <td>Naive bayes</td>\n",
       "      <td>0.924679</td>\n",
       "      <td>0.934512</td>\n",
       "      <td>0.924679</td>\n",
       "      <td>0.927050</td>\n",
       "    </tr>\n",
       "  </tbody>\n",
       "</table>\n",
       "</div>"
      ],
      "text/plain": [
       "            Model  Accuracy  Precision  Recall Score  F-1 Score\n",
       "0  SVM Classifier  0.906614   0.920607      0.906614   0.910759\n",
       "1     Naive bayes  0.924679   0.934512      0.924679   0.927050"
      ]
     },
     "execution_count": 18,
     "metadata": {},
     "output_type": "execute_result"
    }
   ],
   "source": [
    "dt_test_accuracy = accuracy_score(y_test, NB_pred)\n",
    "\n",
    "result = result.append(pd.Series({'Model':'Naive bayes','Accuracy':dt_test_accuracy, 'Precision':precision, 'Recall Score':recall, 'F-1 Score':f1}),ignore_index=True)\n",
    "result"
   ]
  },
  {
   "cell_type": "code",
   "execution_count": 19,
   "id": "0e306341",
   "metadata": {},
   "outputs": [
    {
     "name": "stdout",
     "output_type": "stream",
     "text": [
      "Precision is 0.9472932671324701\n",
      "Recall is 0.9445805266380894\n",
      "F1 score is 0.9455314250522809\n"
     ]
    }
   ],
   "source": [
    "# Random Forest\n",
    "from sklearn.ensemble import RandomForestClassifier\n",
    "model = RandomForestClassifier()\n",
    "model.fit(X_train_df,y_train)\n",
    "RFC_pred = model.predict(X_test_df)\n",
    "\n",
    "precision = precision_score(y_test, RFC_pred, average='weighted')\n",
    "recall = recall_score(y_test, RFC_pred, average='weighted')\n",
    "f1 = f1_score(y_test, RFC_pred, average='weighted')\n",
    "\n",
    "print(\"Precision is\", precision)\n",
    "print(\"Recall is\", recall)\n",
    "print(\"F1 score is\", f1)"
   ]
  },
  {
   "cell_type": "code",
   "execution_count": 20,
   "id": "bd5fbf6a",
   "metadata": {},
   "outputs": [
    {
     "name": "stderr",
     "output_type": "stream",
     "text": [
      "C:\\Users\\asus\\AppData\\Local\\Temp\\ipykernel_1664\\4244469933.py:3: FutureWarning: The frame.append method is deprecated and will be removed from pandas in a future version. Use pandas.concat instead.\n",
      "  result = result.append(pd.Series({'Model':'Random Forest','Accuracy':dt_test_accuracy, 'Precision':precision, 'Recall Score':recall, 'F-1 Score':f1}),ignore_index=True)\n"
     ]
    },
    {
     "data": {
      "text/html": [
       "<div>\n",
       "<style scoped>\n",
       "    .dataframe tbody tr th:only-of-type {\n",
       "        vertical-align: middle;\n",
       "    }\n",
       "\n",
       "    .dataframe tbody tr th {\n",
       "        vertical-align: top;\n",
       "    }\n",
       "\n",
       "    .dataframe thead th {\n",
       "        text-align: right;\n",
       "    }\n",
       "</style>\n",
       "<table border=\"1\" class=\"dataframe\">\n",
       "  <thead>\n",
       "    <tr style=\"text-align: right;\">\n",
       "      <th></th>\n",
       "      <th>Model</th>\n",
       "      <th>Accuracy</th>\n",
       "      <th>Precision</th>\n",
       "      <th>Recall Score</th>\n",
       "      <th>F-1 Score</th>\n",
       "    </tr>\n",
       "  </thead>\n",
       "  <tbody>\n",
       "    <tr>\n",
       "      <th>0</th>\n",
       "      <td>SVM Classifier</td>\n",
       "      <td>0.906614</td>\n",
       "      <td>0.920607</td>\n",
       "      <td>0.906614</td>\n",
       "      <td>0.910759</td>\n",
       "    </tr>\n",
       "    <tr>\n",
       "      <th>1</th>\n",
       "      <td>Naive bayes</td>\n",
       "      <td>0.924679</td>\n",
       "      <td>0.934512</td>\n",
       "      <td>0.924679</td>\n",
       "      <td>0.927050</td>\n",
       "    </tr>\n",
       "    <tr>\n",
       "      <th>2</th>\n",
       "      <td>Random Forest</td>\n",
       "      <td>0.944581</td>\n",
       "      <td>0.947293</td>\n",
       "      <td>0.944581</td>\n",
       "      <td>0.945531</td>\n",
       "    </tr>\n",
       "  </tbody>\n",
       "</table>\n",
       "</div>"
      ],
      "text/plain": [
       "            Model  Accuracy  Precision  Recall Score  F-1 Score\n",
       "0  SVM Classifier  0.906614   0.920607      0.906614   0.910759\n",
       "1     Naive bayes  0.924679   0.934512      0.924679   0.927050\n",
       "2   Random Forest  0.944581   0.947293      0.944581   0.945531"
      ]
     },
     "execution_count": 20,
     "metadata": {},
     "output_type": "execute_result"
    }
   ],
   "source": [
    "dt_test_accuracy = accuracy_score(y_test, RFC_pred)\n",
    "\n",
    "result = result.append(pd.Series({'Model':'Random Forest','Accuracy':dt_test_accuracy, 'Precision':precision, 'Recall Score':recall, 'F-1 Score':f1}),ignore_index=True)\n",
    "result"
   ]
  },
  {
   "cell_type": "code",
   "execution_count": 21,
   "id": "16eef44e",
   "metadata": {},
   "outputs": [
    {
     "name": "stdout",
     "output_type": "stream",
     "text": [
      "Precision is 0.927278873445862\n",
      "Recall is 0.9277403551745255\n",
      "F1 score is 0.9270845909793073\n"
     ]
    }
   ],
   "source": [
    "# Decision tree\n",
    "from sklearn.tree import DecisionTreeClassifier\n",
    "model = DecisionTreeClassifier()\n",
    "model.fit(X_train_df,y_train)\n",
    "DTC_pred = model.predict(X_test_df)\n",
    "precision = precision_score(y_test, DTC_pred, average='weighted')\n",
    "recall = recall_score(y_test, DTC_pred, average='weighted')\n",
    "f1 = f1_score(y_test, DTC_pred, average='weighted')\n",
    "\n",
    "print(\"Precision is\", precision)\n",
    "print(\"Recall is\", recall)\n",
    "print(\"F1 score is\", f1)"
   ]
  },
  {
   "cell_type": "code",
   "execution_count": 22,
   "id": "0b7618f5",
   "metadata": {},
   "outputs": [
    {
     "name": "stderr",
     "output_type": "stream",
     "text": [
      "C:\\Users\\asus\\AppData\\Local\\Temp\\ipykernel_1664\\4153433392.py:3: FutureWarning: The frame.append method is deprecated and will be removed from pandas in a future version. Use pandas.concat instead.\n",
      "  result = result.append(pd.Series({'Model':'Decision Tree','Accuracy':dt_test_accuracy, 'Precision':precision, 'Recall Score':recall, 'F-1 Score':f1}),ignore_index=True)\n"
     ]
    },
    {
     "data": {
      "text/html": [
       "<div>\n",
       "<style scoped>\n",
       "    .dataframe tbody tr th:only-of-type {\n",
       "        vertical-align: middle;\n",
       "    }\n",
       "\n",
       "    .dataframe tbody tr th {\n",
       "        vertical-align: top;\n",
       "    }\n",
       "\n",
       "    .dataframe thead th {\n",
       "        text-align: right;\n",
       "    }\n",
       "</style>\n",
       "<table border=\"1\" class=\"dataframe\">\n",
       "  <thead>\n",
       "    <tr style=\"text-align: right;\">\n",
       "      <th></th>\n",
       "      <th>Model</th>\n",
       "      <th>Accuracy</th>\n",
       "      <th>Precision</th>\n",
       "      <th>Recall Score</th>\n",
       "      <th>F-1 Score</th>\n",
       "    </tr>\n",
       "  </thead>\n",
       "  <tbody>\n",
       "    <tr>\n",
       "      <th>0</th>\n",
       "      <td>SVM Classifier</td>\n",
       "      <td>0.906614</td>\n",
       "      <td>0.920607</td>\n",
       "      <td>0.906614</td>\n",
       "      <td>0.910759</td>\n",
       "    </tr>\n",
       "    <tr>\n",
       "      <th>1</th>\n",
       "      <td>Naive bayes</td>\n",
       "      <td>0.924679</td>\n",
       "      <td>0.934512</td>\n",
       "      <td>0.924679</td>\n",
       "      <td>0.927050</td>\n",
       "    </tr>\n",
       "    <tr>\n",
       "      <th>2</th>\n",
       "      <td>Random Forest</td>\n",
       "      <td>0.944581</td>\n",
       "      <td>0.947293</td>\n",
       "      <td>0.944581</td>\n",
       "      <td>0.945531</td>\n",
       "    </tr>\n",
       "    <tr>\n",
       "      <th>3</th>\n",
       "      <td>Decision Tree</td>\n",
       "      <td>0.927740</td>\n",
       "      <td>0.927279</td>\n",
       "      <td>0.927740</td>\n",
       "      <td>0.927085</td>\n",
       "    </tr>\n",
       "  </tbody>\n",
       "</table>\n",
       "</div>"
      ],
      "text/plain": [
       "            Model  Accuracy  Precision  Recall Score  F-1 Score\n",
       "0  SVM Classifier  0.906614   0.920607      0.906614   0.910759\n",
       "1     Naive bayes  0.924679   0.934512      0.924679   0.927050\n",
       "2   Random Forest  0.944581   0.947293      0.944581   0.945531\n",
       "3   Decision Tree  0.927740   0.927279      0.927740   0.927085"
      ]
     },
     "execution_count": 22,
     "metadata": {},
     "output_type": "execute_result"
    }
   ],
   "source": [
    "dt_test_accuracy = accuracy_score(y_test, DTC_pred)\n",
    "\n",
    "result = result.append(pd.Series({'Model':'Decision Tree','Accuracy':dt_test_accuracy, 'Precision':precision, 'Recall Score':recall, 'F-1 Score':f1}),ignore_index=True)\n",
    "result"
   ]
  },
  {
   "cell_type": "code",
   "execution_count": 23,
   "id": "fb4bdac8",
   "metadata": {},
   "outputs": [
    {
     "name": "stdout",
     "output_type": "stream",
     "text": [
      "Precision is 0.39615699288721645\n",
      "Recall is 0.3643600734843846\n",
      "F1 score is 0.29539590507539903\n"
     ]
    }
   ],
   "source": [
    "# Adaboost \n",
    "from sklearn.ensemble import AdaBoostClassifier\n",
    "model = AdaBoostClassifier()\n",
    "model.fit(X_train_df,y_train)\n",
    "ADA_pred = model.predict(X_test_df)\n",
    "precision = precision_score(y_test, ADA_pred, average='weighted')\n",
    "recall = recall_score(y_test, ADA_pred, average='weighted')\n",
    "f1 = f1_score(y_test, ADA_pred, average='weighted')\n",
    "\n",
    "print(\"Precision is\", precision)\n",
    "print(\"Recall is\", recall)\n",
    "print(\"F1 score is\", f1)"
   ]
  },
  {
   "cell_type": "code",
   "execution_count": 24,
   "id": "d340d6eb",
   "metadata": {},
   "outputs": [
    {
     "name": "stderr",
     "output_type": "stream",
     "text": [
      "C:\\Users\\asus\\AppData\\Local\\Temp\\ipykernel_1664\\2067327503.py:3: FutureWarning: The frame.append method is deprecated and will be removed from pandas in a future version. Use pandas.concat instead.\n",
      "  result = result.append(pd.Series({'Model':'Adaboost','Accuracy':dt_test_accuracy, 'Precision':precision, 'Recall Score':recall, 'F-1 Score':f1}),ignore_index=True)\n"
     ]
    },
    {
     "data": {
      "text/html": [
       "<div>\n",
       "<style scoped>\n",
       "    .dataframe tbody tr th:only-of-type {\n",
       "        vertical-align: middle;\n",
       "    }\n",
       "\n",
       "    .dataframe tbody tr th {\n",
       "        vertical-align: top;\n",
       "    }\n",
       "\n",
       "    .dataframe thead th {\n",
       "        text-align: right;\n",
       "    }\n",
       "</style>\n",
       "<table border=\"1\" class=\"dataframe\">\n",
       "  <thead>\n",
       "    <tr style=\"text-align: right;\">\n",
       "      <th></th>\n",
       "      <th>Model</th>\n",
       "      <th>Accuracy</th>\n",
       "      <th>Precision</th>\n",
       "      <th>Recall Score</th>\n",
       "      <th>F-1 Score</th>\n",
       "    </tr>\n",
       "  </thead>\n",
       "  <tbody>\n",
       "    <tr>\n",
       "      <th>0</th>\n",
       "      <td>SVM Classifier</td>\n",
       "      <td>0.906614</td>\n",
       "      <td>0.920607</td>\n",
       "      <td>0.906614</td>\n",
       "      <td>0.910759</td>\n",
       "    </tr>\n",
       "    <tr>\n",
       "      <th>1</th>\n",
       "      <td>Naive bayes</td>\n",
       "      <td>0.924679</td>\n",
       "      <td>0.934512</td>\n",
       "      <td>0.924679</td>\n",
       "      <td>0.927050</td>\n",
       "    </tr>\n",
       "    <tr>\n",
       "      <th>2</th>\n",
       "      <td>Random Forest</td>\n",
       "      <td>0.944581</td>\n",
       "      <td>0.947293</td>\n",
       "      <td>0.944581</td>\n",
       "      <td>0.945531</td>\n",
       "    </tr>\n",
       "    <tr>\n",
       "      <th>3</th>\n",
       "      <td>Decision Tree</td>\n",
       "      <td>0.927740</td>\n",
       "      <td>0.927279</td>\n",
       "      <td>0.927740</td>\n",
       "      <td>0.927085</td>\n",
       "    </tr>\n",
       "    <tr>\n",
       "      <th>4</th>\n",
       "      <td>Adaboost</td>\n",
       "      <td>0.364360</td>\n",
       "      <td>0.396157</td>\n",
       "      <td>0.364360</td>\n",
       "      <td>0.295396</td>\n",
       "    </tr>\n",
       "  </tbody>\n",
       "</table>\n",
       "</div>"
      ],
      "text/plain": [
       "            Model  Accuracy  Precision  Recall Score  F-1 Score\n",
       "0  SVM Classifier  0.906614   0.920607      0.906614   0.910759\n",
       "1     Naive bayes  0.924679   0.934512      0.924679   0.927050\n",
       "2   Random Forest  0.944581   0.947293      0.944581   0.945531\n",
       "3   Decision Tree  0.927740   0.927279      0.927740   0.927085\n",
       "4        Adaboost  0.364360   0.396157      0.364360   0.295396"
      ]
     },
     "execution_count": 24,
     "metadata": {},
     "output_type": "execute_result"
    }
   ],
   "source": [
    "dt_test_accuracy = accuracy_score(y_test, ADA_pred)\n",
    "\n",
    "result = result.append(pd.Series({'Model':'Adaboost','Accuracy':dt_test_accuracy, 'Precision':precision, 'Recall Score':recall, 'F-1 Score':f1}),ignore_index=True)\n",
    "result"
   ]
  },
  {
   "cell_type": "code",
   "execution_count": 25,
   "id": "4215aae9",
   "metadata": {},
   "outputs": [
    {
     "name": "stdout",
     "output_type": "stream",
     "text": [
      "Precision is 0.8859090537577774\n",
      "Recall is 0.812614819350888\n",
      "F1 score is 0.8346864860982828\n"
     ]
    },
    {
     "name": "stderr",
     "output_type": "stream",
     "text": [
      "C:\\Users\\asus\\anaconda3\\lib\\site-packages\\sklearn\\neighbors\\_classification.py:228: FutureWarning: Unlike other reduction functions (e.g. `skew`, `kurtosis`), the default behavior of `mode` typically preserves the axis it acts along. In SciPy 1.11.0, this behavior will change: the default value of `keepdims` will become False, the `axis` over which the statistic is taken will be eliminated, and the value None will no longer be accepted. Set `keepdims` to True or False to avoid this warning.\n",
      "  mode, _ = stats.mode(_y[neigh_ind, k], axis=1)\n"
     ]
    }
   ],
   "source": [
    "# KNeighborsClassifier\n",
    "from sklearn.neighbors import KNeighborsClassifier\n",
    "model = KNeighborsClassifier()\n",
    "model.fit(X_train_df,y_train)\n",
    "KNN_pred = model.predict(X_test_df)\n",
    "precision = precision_score(y_test, KNN_pred, average='weighted')\n",
    "recall = recall_score(y_test, KNN_pred, average='weighted')\n",
    "f1 = f1_score(y_test, KNN_pred, average='weighted')\n",
    "print(\"Precision is\", precision)\n",
    "print(\"Recall is\", recall)\n",
    "print(\"F1 score is\", f1)"
   ]
  },
  {
   "cell_type": "code",
   "execution_count": 26,
   "id": "eefe12e2",
   "metadata": {},
   "outputs": [
    {
     "name": "stderr",
     "output_type": "stream",
     "text": [
      "C:\\Users\\asus\\AppData\\Local\\Temp\\ipykernel_1664\\3748535209.py:3: FutureWarning: The frame.append method is deprecated and will be removed from pandas in a future version. Use pandas.concat instead.\n",
      "  result = result.append(pd.Series({'Model':'KNN','Accuracy':dt_test_accuracy, 'Precision':precision, 'Recall Score':recall, 'F-1 Score':f1}),ignore_index=True)\n"
     ]
    },
    {
     "data": {
      "text/html": [
       "<div>\n",
       "<style scoped>\n",
       "    .dataframe tbody tr th:only-of-type {\n",
       "        vertical-align: middle;\n",
       "    }\n",
       "\n",
       "    .dataframe tbody tr th {\n",
       "        vertical-align: top;\n",
       "    }\n",
       "\n",
       "    .dataframe thead th {\n",
       "        text-align: right;\n",
       "    }\n",
       "</style>\n",
       "<table border=\"1\" class=\"dataframe\">\n",
       "  <thead>\n",
       "    <tr style=\"text-align: right;\">\n",
       "      <th></th>\n",
       "      <th>Model</th>\n",
       "      <th>Accuracy</th>\n",
       "      <th>Precision</th>\n",
       "      <th>Recall Score</th>\n",
       "      <th>F-1 Score</th>\n",
       "    </tr>\n",
       "  </thead>\n",
       "  <tbody>\n",
       "    <tr>\n",
       "      <th>0</th>\n",
       "      <td>SVM Classifier</td>\n",
       "      <td>0.906614</td>\n",
       "      <td>0.920607</td>\n",
       "      <td>0.906614</td>\n",
       "      <td>0.910759</td>\n",
       "    </tr>\n",
       "    <tr>\n",
       "      <th>1</th>\n",
       "      <td>Naive bayes</td>\n",
       "      <td>0.924679</td>\n",
       "      <td>0.934512</td>\n",
       "      <td>0.924679</td>\n",
       "      <td>0.927050</td>\n",
       "    </tr>\n",
       "    <tr>\n",
       "      <th>2</th>\n",
       "      <td>Random Forest</td>\n",
       "      <td>0.944581</td>\n",
       "      <td>0.947293</td>\n",
       "      <td>0.944581</td>\n",
       "      <td>0.945531</td>\n",
       "    </tr>\n",
       "    <tr>\n",
       "      <th>3</th>\n",
       "      <td>Decision Tree</td>\n",
       "      <td>0.927740</td>\n",
       "      <td>0.927279</td>\n",
       "      <td>0.927740</td>\n",
       "      <td>0.927085</td>\n",
       "    </tr>\n",
       "    <tr>\n",
       "      <th>4</th>\n",
       "      <td>Adaboost</td>\n",
       "      <td>0.364360</td>\n",
       "      <td>0.396157</td>\n",
       "      <td>0.364360</td>\n",
       "      <td>0.295396</td>\n",
       "    </tr>\n",
       "    <tr>\n",
       "      <th>5</th>\n",
       "      <td>KNN</td>\n",
       "      <td>0.812615</td>\n",
       "      <td>0.885909</td>\n",
       "      <td>0.812615</td>\n",
       "      <td>0.834686</td>\n",
       "    </tr>\n",
       "  </tbody>\n",
       "</table>\n",
       "</div>"
      ],
      "text/plain": [
       "            Model  Accuracy  Precision  Recall Score  F-1 Score\n",
       "0  SVM Classifier  0.906614   0.920607      0.906614   0.910759\n",
       "1     Naive bayes  0.924679   0.934512      0.924679   0.927050\n",
       "2   Random Forest  0.944581   0.947293      0.944581   0.945531\n",
       "3   Decision Tree  0.927740   0.927279      0.927740   0.927085\n",
       "4        Adaboost  0.364360   0.396157      0.364360   0.295396\n",
       "5             KNN  0.812615   0.885909      0.812615   0.834686"
      ]
     },
     "execution_count": 26,
     "metadata": {},
     "output_type": "execute_result"
    }
   ],
   "source": [
    "dt_test_accuracy = accuracy_score(y_test, KNN_pred)\n",
    "\n",
    "result = result.append(pd.Series({'Model':'KNN','Accuracy':dt_test_accuracy, 'Precision':precision, 'Recall Score':recall, 'F-1 Score':f1}),ignore_index=True)\n",
    "result"
   ]
  },
  {
   "cell_type": "code",
   "execution_count": 27,
   "id": "417000f2",
   "metadata": {},
   "outputs": [
    {
     "name": "stdout",
     "output_type": "stream",
     "text": [
      "Precision is 0.9448091860831813\n",
      "Recall is 0.9433557868952848\n",
      "F1 score is 0.9439036116608348\n"
     ]
    },
    {
     "name": "stderr",
     "output_type": "stream",
     "text": [
      "C:\\Users\\asus\\anaconda3\\lib\\site-packages\\sklearn\\linear_model\\_logistic.py:814: ConvergenceWarning: lbfgs failed to converge (status=1):\n",
      "STOP: TOTAL NO. of ITERATIONS REACHED LIMIT.\n",
      "\n",
      "Increase the number of iterations (max_iter) or scale the data as shown in:\n",
      "    https://scikit-learn.org/stable/modules/preprocessing.html\n",
      "Please also refer to the documentation for alternative solver options:\n",
      "    https://scikit-learn.org/stable/modules/linear_model.html#logistic-regression\n",
      "  n_iter_i = _check_optimize_result(\n"
     ]
    }
   ],
   "source": [
    "# LogisticRegression\n",
    "from sklearn.linear_model import LogisticRegression\n",
    "model = LogisticRegression()\n",
    "model.fit(X_train_df,y_train)\n",
    "LGR_pred = model.predict(X_test_df)\n",
    "precision = precision_score(y_test, LGR_pred, average='weighted')\n",
    "recall = recall_score(y_test, LGR_pred, average='weighted')\n",
    "f1 = f1_score(y_test, LGR_pred, average='weighted')\n",
    "print(\"Precision is\", precision)\n",
    "print(\"Recall is\", recall)\n",
    "print(\"F1 score is\", f1)"
   ]
  },
  {
   "cell_type": "code",
   "execution_count": 28,
   "id": "9cfca8a7",
   "metadata": {},
   "outputs": [
    {
     "name": "stderr",
     "output_type": "stream",
     "text": [
      "C:\\Users\\asus\\AppData\\Local\\Temp\\ipykernel_1664\\567188770.py:3: FutureWarning: The frame.append method is deprecated and will be removed from pandas in a future version. Use pandas.concat instead.\n",
      "  result = result.append(pd.Series({'Model':'Logistic Regression','Accuracy':dt_test_accuracy, 'Precision':precision, 'Recall Score':recall, 'F-1 Score':f1}),ignore_index=True)\n"
     ]
    },
    {
     "data": {
      "text/html": [
       "<div>\n",
       "<style scoped>\n",
       "    .dataframe tbody tr th:only-of-type {\n",
       "        vertical-align: middle;\n",
       "    }\n",
       "\n",
       "    .dataframe tbody tr th {\n",
       "        vertical-align: top;\n",
       "    }\n",
       "\n",
       "    .dataframe thead th {\n",
       "        text-align: right;\n",
       "    }\n",
       "</style>\n",
       "<table border=\"1\" class=\"dataframe\">\n",
       "  <thead>\n",
       "    <tr style=\"text-align: right;\">\n",
       "      <th></th>\n",
       "      <th>Model</th>\n",
       "      <th>Accuracy</th>\n",
       "      <th>Precision</th>\n",
       "      <th>Recall Score</th>\n",
       "      <th>F-1 Score</th>\n",
       "    </tr>\n",
       "  </thead>\n",
       "  <tbody>\n",
       "    <tr>\n",
       "      <th>0</th>\n",
       "      <td>SVM Classifier</td>\n",
       "      <td>0.906614</td>\n",
       "      <td>0.920607</td>\n",
       "      <td>0.906614</td>\n",
       "      <td>0.910759</td>\n",
       "    </tr>\n",
       "    <tr>\n",
       "      <th>1</th>\n",
       "      <td>Naive bayes</td>\n",
       "      <td>0.924679</td>\n",
       "      <td>0.934512</td>\n",
       "      <td>0.924679</td>\n",
       "      <td>0.927050</td>\n",
       "    </tr>\n",
       "    <tr>\n",
       "      <th>2</th>\n",
       "      <td>Random Forest</td>\n",
       "      <td>0.944581</td>\n",
       "      <td>0.947293</td>\n",
       "      <td>0.944581</td>\n",
       "      <td>0.945531</td>\n",
       "    </tr>\n",
       "    <tr>\n",
       "      <th>3</th>\n",
       "      <td>Decision Tree</td>\n",
       "      <td>0.927740</td>\n",
       "      <td>0.927279</td>\n",
       "      <td>0.927740</td>\n",
       "      <td>0.927085</td>\n",
       "    </tr>\n",
       "    <tr>\n",
       "      <th>4</th>\n",
       "      <td>Adaboost</td>\n",
       "      <td>0.364360</td>\n",
       "      <td>0.396157</td>\n",
       "      <td>0.364360</td>\n",
       "      <td>0.295396</td>\n",
       "    </tr>\n",
       "    <tr>\n",
       "      <th>5</th>\n",
       "      <td>KNN</td>\n",
       "      <td>0.812615</td>\n",
       "      <td>0.885909</td>\n",
       "      <td>0.812615</td>\n",
       "      <td>0.834686</td>\n",
       "    </tr>\n",
       "    <tr>\n",
       "      <th>6</th>\n",
       "      <td>Logistic Regression</td>\n",
       "      <td>0.943356</td>\n",
       "      <td>0.944809</td>\n",
       "      <td>0.943356</td>\n",
       "      <td>0.943904</td>\n",
       "    </tr>\n",
       "  </tbody>\n",
       "</table>\n",
       "</div>"
      ],
      "text/plain": [
       "                 Model  Accuracy  Precision  Recall Score  F-1 Score\n",
       "0       SVM Classifier  0.906614   0.920607      0.906614   0.910759\n",
       "1          Naive bayes  0.924679   0.934512      0.924679   0.927050\n",
       "2        Random Forest  0.944581   0.947293      0.944581   0.945531\n",
       "3        Decision Tree  0.927740   0.927279      0.927740   0.927085\n",
       "4             Adaboost  0.364360   0.396157      0.364360   0.295396\n",
       "5                  KNN  0.812615   0.885909      0.812615   0.834686\n",
       "6  Logistic Regression  0.943356   0.944809      0.943356   0.943904"
      ]
     },
     "execution_count": 28,
     "metadata": {},
     "output_type": "execute_result"
    }
   ],
   "source": [
    "dt_test_accuracy = accuracy_score(y_test, LGR_pred)\n",
    "\n",
    "result = result.append(pd.Series({'Model':'Logistic Regression','Accuracy':dt_test_accuracy, 'Precision':precision, 'Recall Score':recall, 'F-1 Score':f1}),ignore_index=True)\n",
    "result"
   ]
  },
  {
   "cell_type": "code",
   "execution_count": null,
   "id": "5860587b",
   "metadata": {},
   "outputs": [],
   "source": []
  }
 ],
 "metadata": {
  "kernelspec": {
   "display_name": "Python 3 (ipykernel)",
   "language": "python",
   "name": "python3"
  },
  "language_info": {
   "codemirror_mode": {
    "name": "ipython",
    "version": 3
   },
   "file_extension": ".py",
   "mimetype": "text/x-python",
   "name": "python",
   "nbconvert_exporter": "python",
   "pygments_lexer": "ipython3",
   "version": "3.9.13"
  }
 },
 "nbformat": 4,
 "nbformat_minor": 5
}
